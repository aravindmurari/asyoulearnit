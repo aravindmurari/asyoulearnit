{
 "cells": [
  {
   "cell_type": "markdown",
   "metadata": {},
   "source": [
    "# Print"
   ]
  },
  {
   "cell_type": "code",
   "execution_count": 53,
   "metadata": {},
   "outputs": [
    {
     "name": "stdout",
     "output_type": "stream",
     "text": [
      "1\n"
     ]
    }
   ],
   "source": [
    "a=1\n",
    "print(a)"
   ]
  },
  {
   "cell_type": "code",
   "execution_count": 54,
   "metadata": {},
   "outputs": [
    {
     "name": "stdout",
     "output_type": "stream",
     "text": [
      "hellohello\n"
     ]
    }
   ],
   "source": [
    "message=\"hello\"\n",
    "print(message*2)"
   ]
  },
  {
   "cell_type": "code",
   "execution_count": 55,
   "metadata": {},
   "outputs": [
    {
     "name": "stdout",
     "output_type": "stream",
     "text": [
      "<class 'int'>\n",
      "<class 'str'>\n"
     ]
    }
   ],
   "source": [
    "b=2\n",
    "print(type(b))\n",
    "\n",
    "b=\"nature\"\n",
    "print(type(b))"
   ]
  },
  {
   "cell_type": "code",
   "execution_count": 56,
   "metadata": {},
   "outputs": [
    {
     "name": "stdout",
     "output_type": "stream",
     "text": [
      "I eat mango in summer\n",
      "I eat water melon in summer\n",
      "I eat apples in winter\n"
     ]
    }
   ],
   "source": [
    "fruits_seasons = [('mango','summer'),('water melon','summer'),('apples','winter')]\n",
    "for fruit,season in fruits_seasons:\n",
    "    print('I eat {fr} in {se}'.format(fr=fruit,se=season))"
   ]
  },
  {
   "cell_type": "markdown",
   "metadata": {},
   "source": [
    "# Lists"
   ]
  },
  {
   "cell_type": "code",
   "execution_count": 72,
   "metadata": {},
   "outputs": [
    {
     "name": "stdout",
     "output_type": "stream",
     "text": [
      "4\n"
     ]
    }
   ],
   "source": [
    "count_of_3s=[1,2,3,4,5,6,7,5,6,7,8,3,2,3,1,3].count(3)\n",
    "print(count_of_3s)"
   ]
  },
  {
   "cell_type": "markdown",
   "metadata": {},
   "source": [
    "# Dictionaries"
   ]
  },
  {
   "cell_type": "code",
   "execution_count": 24,
   "metadata": {},
   "outputs": [],
   "source": [
    "#create a new dictionary\n",
    "students = {'Tarun':5, 'Akhil':6, 'Amrutha':6 ,'Kruthi':9, 'Ria':10, 'Ritvik':10}"
   ]
  },
  {
   "cell_type": "code",
   "execution_count": 26,
   "metadata": {},
   "outputs": [
    {
     "name": "stdout",
     "output_type": "stream",
     "text": [
      "{'Tarun': 5, 'Akhil': 6, 'Amrutha': 6, 'Kruthi': 9, 'Ria': 10, 'Ritvik': 10}\n"
     ]
    }
   ],
   "source": [
    "print(students)"
   ]
  },
  {
   "cell_type": "code",
   "execution_count": 27,
   "metadata": {},
   "outputs": [
    {
     "ename": "KeyError",
     "evalue": "2",
     "output_type": "error",
     "traceback": [
      "\u001b[1;31m---------------------------------------------------------------------------\u001b[0m",
      "\u001b[1;31mKeyError\u001b[0m                                  Traceback (most recent call last)",
      "\u001b[1;32m<ipython-input-27-08f340b07da0>\u001b[0m in \u001b[0;36m<module>\u001b[1;34m\u001b[0m\n\u001b[1;32m----> 1\u001b[1;33m \u001b[0mprint\u001b[0m\u001b[1;33m(\u001b[0m\u001b[0mstudents\u001b[0m\u001b[1;33m[\u001b[0m\u001b[1;36m2\u001b[0m\u001b[1;33m]\u001b[0m\u001b[1;33m)\u001b[0m\u001b[1;33m\u001b[0m\u001b[1;33m\u001b[0m\u001b[0m\n\u001b[0m\u001b[0;32m      2\u001b[0m \u001b[1;31m#KeyError\u001b[0m\u001b[1;33m\u001b[0m\u001b[1;33m\u001b[0m\u001b[1;33m\u001b[0m\u001b[0m\n\u001b[0;32m      3\u001b[0m \u001b[1;31m#It doesn't work like lists(retrieving element with index number)\u001b[0m\u001b[1;33m\u001b[0m\u001b[1;33m\u001b[0m\u001b[1;33m\u001b[0m\u001b[0m\n",
      "\u001b[1;31mKeyError\u001b[0m: 2"
     ]
    }
   ],
   "source": [
    "print(students[2])\n",
    "#KeyError\n",
    "#It doesn't work like lists(retrieving element with index number) "
   ]
  },
  {
   "cell_type": "code",
   "execution_count": 28,
   "metadata": {},
   "outputs": [
    {
     "name": "stdout",
     "output_type": "stream",
     "text": [
      "6\n"
     ]
    }
   ],
   "source": [
    "print(students['Akhil'])"
   ]
  },
  {
   "cell_type": "code",
   "execution_count": 29,
   "metadata": {},
   "outputs": [
    {
     "name": "stdout",
     "output_type": "stream",
     "text": [
      "{'Tarun': 5, 'Akhil': 6, 'Amrutha': 5, 'Kruthi': 9, 'Ria': 10, 'Ritvik': 10}\n"
     ]
    }
   ],
   "source": [
    "#adds new key to the dictionary. If already exists, it updates\n",
    "students['Amrutha']=5\n",
    "#students.update(Amrutha=5)\n",
    "#also does the same\n",
    "print(students)"
   ]
  },
  {
   "cell_type": "code",
   "execution_count": 30,
   "metadata": {},
   "outputs": [
    {
     "name": "stdout",
     "output_type": "stream",
     "text": [
      "{'Tarun': 5, 'Akhil': 6, 'Amrutha': 5, 'Kruthi': 9, 'Ria': 10, 'Ritvik': 10, 'Amruthaaaa': 5}\n"
     ]
    }
   ],
   "source": [
    "#adds new key to the dictionary\n",
    "students.update(Amruthaaaa=5)\n",
    "# students['Amruthaaa']=5 \n",
    "# also does the same\n",
    "print(students)"
   ]
  },
  {
   "cell_type": "code",
   "execution_count": 31,
   "metadata": {},
   "outputs": [
    {
     "name": "stdout",
     "output_type": "stream",
     "text": [
      "dict_values([5, 6, 5, 9, 10, 10, 5])\n",
      "dict_keys(['Tarun', 'Akhil', 'Amrutha', 'Kruthi', 'Ria', 'Ritvik', 'Amruthaaaa'])\n"
     ]
    }
   ],
   "source": [
    "print(students.values())\n",
    "print(students.keys())"
   ]
  },
  {
   "cell_type": "code",
   "execution_count": 47,
   "metadata": {},
   "outputs": [
    {
     "name": "stdout",
     "output_type": "stream",
     "text": [
      "Tarun\n",
      "Akhil\n",
      "Amrutha\n",
      "Kruthi\n",
      "Ria\n",
      "Ritvik\n",
      "Amruthaaaa\n"
     ]
    }
   ],
   "source": [
    "for student in students:\n",
    "    print(student)"
   ]
  },
  {
   "cell_type": "code",
   "execution_count": 46,
   "metadata": {},
   "outputs": [
    {
     "name": "stdout",
     "output_type": "stream",
     "text": [
      "Tarun\n",
      "Akhil\n",
      "Amrutha\n",
      "Kruthi\n",
      "Ria\n",
      "Ritvik\n",
      "Amruthaaaa\n"
     ]
    }
   ],
   "source": [
    "# this is same as above\n",
    "for student_name in students.keys():\n",
    "    print(student_name)"
   ]
  },
  {
   "cell_type": "code",
   "execution_count": 52,
   "metadata": {},
   "outputs": [
    {
     "name": "stdout",
     "output_type": "stream",
     "text": [
      "{'Tarun': 6, 'Akhil': 7, 'Amrutha': 6, 'Kruthi': 10, 'Ria': 11, 'Ritvik': 11, 'Amruthaaaa': 6}\n",
      "{'Tarun': 5, 'Akhil': 6, 'Amrutha': 5, 'Kruthi': 9, 'Ria': 10, 'Ritvik': 10, 'Amruthaaaa': 5}\n"
     ]
    }
   ],
   "source": [
    "for student in students:\n",
    "    students[student]+=1\n",
    "print(students)\n",
    "\n",
    "for student in students:\n",
    "    students[student]-=1\n",
    "print(students)\n"
   ]
  },
  {
   "cell_type": "code",
   "execution_count": 32,
   "metadata": {},
   "outputs": [],
   "source": [
    "inventory = {\"iron spear\": 12, \"invisible knife\": 30, \"needle of ambition\": 10, \"stone glove\": 20, \"the peacemaker\": 65, \"demonslayer\": 50}"
   ]
  },
  {
   "cell_type": "code",
   "execution_count": 33,
   "metadata": {},
   "outputs": [
    {
     "name": "stdout",
     "output_type": "stream",
     "text": [
      "True\n",
      "False\n"
     ]
    }
   ],
   "source": [
    "print(\"the peacemaker\" in inventory)\n",
    "#prints True\n",
    "\n",
    "print(\"6\" in inventory)\n",
    "#prints False"
   ]
  },
  {
   "cell_type": "code",
   "execution_count": 34,
   "metadata": {},
   "outputs": [
    {
     "name": "stdout",
     "output_type": "stream",
     "text": [
      "12\n"
     ]
    }
   ],
   "source": [
    "print(inventory[\"iron spear\"])\n",
    "#12"
   ]
  },
  {
   "cell_type": "code",
   "execution_count": 35,
   "metadata": {},
   "outputs": [
    {
     "name": "stdout",
     "output_type": "stream",
     "text": [
      "20\n",
      "30\n"
     ]
    }
   ],
   "source": [
    "print(inventory.get(\"stone glove\",30))\n",
    "#20 because the key exists\n",
    "print(inventory.get(\"stone gloveeeee\",30))\n",
    "#30 because the key doesn't exist"
   ]
  },
  {
   "cell_type": "code",
   "execution_count": 39,
   "metadata": {},
   "outputs": [],
   "source": [
    "combo_meals = {1: [\"hamburger\", \"fries\"], \n",
    "               2: [\"hamburger\", \"fries\", \"soda\"], \n",
    "               4: [\"veggie burger\", \"salad\", \"soda\"], \n",
    "               6: [\"hot dog\", \"apple slices\", \"orange juice\"]}"
   ]
  },
  {
   "cell_type": "code",
   "execution_count": 38,
   "metadata": {},
   "outputs": [
    {
     "name": "stdout",
     "output_type": "stream",
     "text": [
      "['hamburger', 'fries']\n"
     ]
    }
   ],
   "source": [
    "print(combo_meals.get(3, [\"hamburger\", \"fries\"]))"
   ]
  },
  {
   "cell_type": "code",
   "execution_count": 57,
   "metadata": {},
   "outputs": [
    {
     "name": "stdout",
     "output_type": "stream",
     "text": [
      "{'apple': 2, 'cat': 1, 1: 1}\n",
      "{0: 5}\n"
     ]
    }
   ],
   "source": [
    "# Write your frequency_dictionary function here:\n",
    "def frequency_dictionary(words):\n",
    "  my_dictionary={}\n",
    "  for word in words:\n",
    "    if(word in my_dictionary.keys()):\n",
    "      my_dictionary[word]+=1\n",
    "    else:\n",
    "      my_dictionary[word]=1\n",
    "  return my_dictionary\n",
    "    \n",
    "print(frequency_dictionary([\"apple\", \"apple\", \"cat\", 1]))\n",
    "# should print {\"apple\":2, \"cat\":1, 1:1}\n",
    "print(frequency_dictionary([0,0,0,0,0]))\n",
    "# should print {0:5}"
   ]
  },
  {
   "cell_type": "code",
   "execution_count": 62,
   "metadata": {},
   "outputs": [
    {
     "name": "stdout",
     "output_type": "stream",
     "text": [
      "dict_values([20, 11, 12])\n"
     ]
    }
   ],
   "source": [
    "my_dictionary = {\"apple\":20, \"mango\":11, \"pumpkin\":12}\n",
    "print(my_dictionary.values())"
   ]
  },
  {
   "cell_type": "code",
   "execution_count": 63,
   "metadata": {},
   "outputs": [
    {
     "ename": "TypeError",
     "evalue": "'dict_values' object is not subscriptable",
     "output_type": "error",
     "traceback": [
      "\u001b[1;31m---------------------------------------------------------------------------\u001b[0m",
      "\u001b[1;31mTypeError\u001b[0m                                 Traceback (most recent call last)",
      "\u001b[1;32m<ipython-input-63-18450c289bba>\u001b[0m in \u001b[0;36m<module>\u001b[1;34m\u001b[0m\n\u001b[1;32m----> 1\u001b[1;33m \u001b[0mprint\u001b[0m\u001b[1;33m(\u001b[0m\u001b[0mmy_dictionary\u001b[0m\u001b[1;33m.\u001b[0m\u001b[0mvalues\u001b[0m\u001b[1;33m(\u001b[0m\u001b[1;33m)\u001b[0m\u001b[1;33m[\u001b[0m\u001b[1;36m1\u001b[0m\u001b[1;33m]\u001b[0m\u001b[1;33m)\u001b[0m\u001b[1;33m\u001b[0m\u001b[1;33m\u001b[0m\u001b[0m\n\u001b[0m",
      "\u001b[1;31mTypeError\u001b[0m: 'dict_values' object is not subscriptable"
     ]
    }
   ],
   "source": [
    "print(my_dictionary.values()[1])"
   ]
  },
  {
   "cell_type": "code",
   "execution_count": 64,
   "metadata": {},
   "outputs": [
    {
     "name": "stdout",
     "output_type": "stream",
     "text": [
      "11\n"
     ]
    }
   ],
   "source": [
    "print(list(my_dictionary.values())[1])"
   ]
  },
  {
   "cell_type": "code",
   "execution_count": 65,
   "metadata": {},
   "outputs": [
    {
     "name": "stdout",
     "output_type": "stream",
     "text": [
      "3\n"
     ]
    }
   ],
   "source": [
    "print(len(my_dictionary.values()))"
   ]
  },
  {
   "cell_type": "code",
   "execution_count": 66,
   "metadata": {},
   "outputs": [
    {
     "name": "stdout",
     "output_type": "stream",
     "text": [
      "3\n"
     ]
    }
   ],
   "source": [
    "print(len(my_dictionary))"
   ]
  },
  {
   "cell_type": "code",
   "execution_count": 71,
   "metadata": {},
   "outputs": [
    {
     "name": "stdout",
     "output_type": "stream",
     "text": [
      "hello\n",
      "hello\n",
      "hello\n"
     ]
    }
   ],
   "source": [
    "for i in range(3):\n",
    "    print('hello')"
   ]
  },
  {
   "cell_type": "code",
   "execution_count": null,
   "metadata": {},
   "outputs": [],
   "source": []
  }
 ],
 "metadata": {
  "kernelspec": {
   "display_name": "Python 3",
   "language": "python",
   "name": "python3"
  },
  "language_info": {
   "codemirror_mode": {
    "name": "ipython",
    "version": 3
   },
   "file_extension": ".py",
   "mimetype": "text/x-python",
   "name": "python",
   "nbconvert_exporter": "python",
   "pygments_lexer": "ipython3",
   "version": "3.7.4"
  }
 },
 "nbformat": 4,
 "nbformat_minor": 2
}
