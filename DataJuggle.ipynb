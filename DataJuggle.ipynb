{
 "cells": [
  {
   "cell_type": "code",
   "execution_count": 1,
   "metadata": {},
   "outputs": [
    {
     "name": "stdout",
     "output_type": "stream",
     "text": [
      "a\n"
     ]
    }
   ],
   "source": [
    "print(\"a\")"
   ]
  },
  {
   "cell_type": "code",
   "execution_count": 11,
   "metadata": {},
   "outputs": [],
   "source": [
    "# Import pandas \n",
    "import pandas as pd\n",
    "\n",
    "# Import numpy\n",
    "import numpy as np"
   ]
  },
  {
   "cell_type": "code",
   "execution_count": 12,
   "metadata": {},
   "outputs": [
    {
     "name": "stdout",
     "output_type": "stream",
     "text": [
      "https://s3.amazonaws.com/assets.datacamp.com/production/course_6060/datasets/recent_grads.csv\n"
     ]
    }
   ],
   "source": [
    "recent_grads_url = \"https://s3.amazonaws.com/assets.datacamp.com/production/course_6060/datasets/recent_grads.csv\"\n",
    "print(recent_grads_url)"
   ]
  },
  {
   "cell_type": "code",
   "execution_count": 13,
   "metadata": {},
   "outputs": [
    {
     "name": "stdout",
     "output_type": "stream",
     "text": [
      "<class 'pandas.core.frame.DataFrame'>\n",
      "(173, 21)\n"
     ]
    }
   ],
   "source": [
    "# Use pandas to read in recent_grads_url\n",
    "recent_grads = pd.read_csv(recent_grads_url)\n",
    "\n",
    "print (type(recent_grads))\n",
    "# Print the shape\n",
    "print(recent_grads.shape)\n"
   ]
  },
  {
   "cell_type": "code",
   "execution_count": 14,
   "metadata": {},
   "outputs": [
    {
     "name": "stdout",
     "output_type": "stream",
     "text": [
      "   rank  major_code                                      major  \\\n",
      "0     1        2419                      PETROLEUM ENGINEERING   \n",
      "1     2        2416             MINING AND MINERAL ENGINEERING   \n",
      "2     3        2415                  METALLURGICAL ENGINEERING   \n",
      "3     4        2417  NAVAL ARCHITECTURE AND MARINE ENGINEERING   \n",
      "4     5        2405                       CHEMICAL ENGINEERING   \n",
      "5     6        2418                        NUCLEAR ENGINEERING   \n",
      "6     7        6202                          ACTUARIAL SCIENCE   \n",
      "7     8        5001                 ASTRONOMY AND ASTROPHYSICS   \n",
      "8     9        2414                     MECHANICAL ENGINEERING   \n",
      "9    10        2408                     ELECTRICAL ENGINEERING   \n",
      "\n",
      "      major_category  total  sample_size    men  women  sharewomen  employed  \\\n",
      "0        Engineering   2339           36   2057    282    0.120564      1976   \n",
      "1        Engineering    756            7    679     77    0.101852       640   \n",
      "2        Engineering    856            3    725    131    0.153037       648   \n",
      "3        Engineering   1258           16   1123    135    0.107313       758   \n",
      "4        Engineering  32260          289  21239  11021    0.341631     25694   \n",
      "5        Engineering   2573           17   2200    373    0.144967      1857   \n",
      "6           Business   3777           51    832    960    0.535714      2912   \n",
      "7  Physical Sciences   1792           10   2110   1667    0.441356      1526   \n",
      "8        Engineering  91227         1029  12953   2105    0.139793     76442   \n",
      "9        Engineering  81527          631   8407   6548    0.437847     61928   \n",
      "\n",
      "   ...  part_time  full_time_year_round  unemployed  unemployment_rate  \\\n",
      "0  ...        270                  1207          37           0.018381   \n",
      "1  ...        170                   388          85           0.117241   \n",
      "2  ...        133                   340          16           0.024096   \n",
      "3  ...        150                   692          40           0.050125   \n",
      "4  ...       5180                 16697        1672           0.061098   \n",
      "5  ...        264                  1449         400           0.177226   \n",
      "6  ...        296                  2482         308           0.095652   \n",
      "7  ...        553                   827          33           0.021167   \n",
      "8  ...      13101                 54639        4650           0.057342   \n",
      "9  ...      12695                 41413        3895           0.059174   \n",
      "\n",
      "   median  p25th   p75th college_jobs  non_college_jobs  low_wage_jobs  \n",
      "0  110000  95000  125000         1534               364            193  \n",
      "1   75000  55000   90000          350               257             50  \n",
      "2   73000  50000  105000          456               176              0  \n",
      "3   70000  43000   80000          529               102              0  \n",
      "4   65000  50000   75000        18314              4440            972  \n",
      "5   65000  50000  102000         1142               657            244  \n",
      "6      UN     UN      UN         1768               314            259  \n",
      "7   62000  31500  109000          972               500            220  \n",
      "8   60000  48000   70000        52844             16384           3253  \n",
      "9   60000  45000   72000        45829             10874           3170  \n",
      "\n",
      "[10 rows x 21 columns]\n"
     ]
    }
   ],
   "source": [
    "print(recent_grads.head(10))"
   ]
  },
  {
   "cell_type": "code",
   "execution_count": 15,
   "metadata": {},
   "outputs": [
    {
     "name": "stdout",
     "output_type": "stream",
     "text": [
      "0.968953683\n"
     ]
    }
   ],
   "source": [
    "print(recent_grads['sharewomen'].max())"
   ]
  },
  {
   "cell_type": "code",
   "execution_count": 16,
   "metadata": {},
   "outputs": [
    {
     "name": "stdout",
     "output_type": "stream",
     "text": [
      "rank                               173\n",
      "major_code                        6403\n",
      "major                          ZOOLOGY\n",
      "major_category          Social Science\n",
      "total                           393735\n",
      "sample_size                       4212\n",
      "men                             173809\n",
      "women                           307087\n",
      "sharewomen                    0.968954\n",
      "employed                        307933\n",
      "full_time                       251540\n",
      "part_time                       115172\n",
      "full_time_year_round            199897\n",
      "unemployed                       28169\n",
      "unemployment_rate             0.177226\n",
      "median                              UN\n",
      "p25th                               UN\n",
      "p75th                               UN\n",
      "college_jobs                    151643\n",
      "non_college_jobs                148395\n",
      "low_wage_jobs                    48207\n",
      "dtype: object\n"
     ]
    }
   ],
   "source": [
    "print(recent_grads.max())"
   ]
  },
  {
   "cell_type": "code",
   "execution_count": 17,
   "metadata": {},
   "outputs": [
    {
     "data": {
      "text/plain": [
       "0      0.120564\n",
       "1      0.101852\n",
       "2      0.153037\n",
       "3      0.107313\n",
       "4      0.341631\n",
       "         ...   \n",
       "168    0.637293\n",
       "169    0.817099\n",
       "170    0.799859\n",
       "171    0.798746\n",
       "172    0.877960\n",
       "Name: sharewomen, Length: 173, dtype: float64"
      ]
     },
     "execution_count": 17,
     "metadata": {},
     "output_type": "execute_result"
    }
   ],
   "source": [
    "recent_grads.sharewomen"
   ]
  },
  {
   "cell_type": "code",
   "execution_count": 18,
   "metadata": {},
   "outputs": [
    {
     "data": {
      "text/plain": [
       "0      0.120564\n",
       "1      0.101852\n",
       "2      0.153037\n",
       "3      0.107313\n",
       "4      0.341631\n",
       "         ...   \n",
       "168    0.637293\n",
       "169    0.817099\n",
       "170    0.799859\n",
       "171    0.798746\n",
       "172    0.877960\n",
       "Name: sharewomen, Length: 173, dtype: float64"
      ]
     },
     "execution_count": 18,
     "metadata": {},
     "output_type": "execute_result"
    }
   ],
   "source": [
    "recent_grads['sharewomen']"
   ]
  },
  {
   "cell_type": "code",
   "execution_count": 19,
   "metadata": {},
   "outputs": [
    {
     "data": {
      "text/html": [
       "<div>\n",
       "<style scoped>\n",
       "    .dataframe tbody tr th:only-of-type {\n",
       "        vertical-align: middle;\n",
       "    }\n",
       "\n",
       "    .dataframe tbody tr th {\n",
       "        vertical-align: top;\n",
       "    }\n",
       "\n",
       "    .dataframe thead th {\n",
       "        text-align: right;\n",
       "    }\n",
       "</style>\n",
       "<table border=\"1\" class=\"dataframe\">\n",
       "  <thead>\n",
       "    <tr style=\"text-align: right;\">\n",
       "      <th></th>\n",
       "      <th>rank</th>\n",
       "      <th>major_code</th>\n",
       "      <th>major</th>\n",
       "      <th>major_category</th>\n",
       "      <th>total</th>\n",
       "      <th>sample_size</th>\n",
       "      <th>men</th>\n",
       "      <th>women</th>\n",
       "      <th>sharewomen</th>\n",
       "      <th>employed</th>\n",
       "      <th>...</th>\n",
       "      <th>part_time</th>\n",
       "      <th>full_time_year_round</th>\n",
       "      <th>unemployed</th>\n",
       "      <th>unemployment_rate</th>\n",
       "      <th>median</th>\n",
       "      <th>p25th</th>\n",
       "      <th>p75th</th>\n",
       "      <th>college_jobs</th>\n",
       "      <th>non_college_jobs</th>\n",
       "      <th>low_wage_jobs</th>\n",
       "    </tr>\n",
       "  </thead>\n",
       "  <tbody>\n",
       "    <tr>\n",
       "      <th>162</th>\n",
       "      <td>163</td>\n",
       "      <td>5502</td>\n",
       "      <td>ANTHROPOLOGY AND ARCHEOLOGY</td>\n",
       "      <td>Humanities &amp; Liberal Arts</td>\n",
       "      <td>38844</td>\n",
       "      <td>247</td>\n",
       "      <td>1167</td>\n",
       "      <td>36422</td>\n",
       "      <td>0.968954</td>\n",
       "      <td>29633</td>\n",
       "      <td>...</td>\n",
       "      <td>14515</td>\n",
       "      <td>13232</td>\n",
       "      <td>3395</td>\n",
       "      <td>0.102792</td>\n",
       "      <td>28000</td>\n",
       "      <td>20000</td>\n",
       "      <td>38000</td>\n",
       "      <td>9805</td>\n",
       "      <td>16693</td>\n",
       "      <td>6866</td>\n",
       "    </tr>\n",
       "  </tbody>\n",
       "</table>\n",
       "<p>1 rows × 21 columns</p>\n",
       "</div>"
      ],
      "text/plain": [
       "     rank  major_code                        major             major_category  \\\n",
       "162   163        5502  ANTHROPOLOGY AND ARCHEOLOGY  Humanities & Liberal Arts   \n",
       "\n",
       "     total  sample_size   men  women  sharewomen  employed  ...  part_time  \\\n",
       "162  38844          247  1167  36422    0.968954     29633  ...      14515   \n",
       "\n",
       "     full_time_year_round  unemployed  unemployment_rate  median  p25th  \\\n",
       "162                 13232        3395           0.102792   28000  20000   \n",
       "\n",
       "     p75th college_jobs  non_college_jobs  low_wage_jobs  \n",
       "162  38000         9805             16693           6866  \n",
       "\n",
       "[1 rows x 21 columns]"
      ]
     },
     "execution_count": 19,
     "metadata": {},
     "output_type": "execute_result"
    }
   ],
   "source": [
    "recent_grads[recent_grads.sharewomen==recent_grads.sharewomen.max()]"
   ]
  },
  {
   "cell_type": "code",
   "execution_count": 20,
   "metadata": {},
   "outputs": [],
   "source": [
    "recent_grads_np = np.array(recent_grads[['unemployed','low_wage_jobs']])"
   ]
  },
  {
   "cell_type": "code",
   "execution_count": 21,
   "metadata": {},
   "outputs": [
    {
     "data": {
      "text/plain": [
       "numpy.ndarray"
      ]
     },
     "execution_count": 21,
     "metadata": {},
     "output_type": "execute_result"
    }
   ],
   "source": [
    "type(recent_grads_np)"
   ]
  },
  {
   "cell_type": "code",
   "execution_count": 22,
   "metadata": {},
   "outputs": [
    {
     "name": "stdout",
     "output_type": "stream",
     "text": [
      "[[1.         0.95538815]\n",
      " [0.95538815 1.        ]]\n"
     ]
    }
   ],
   "source": [
    "print(np.corrcoef(recent_grads_np[:,0],recent_grads_np[:,1]))"
   ]
  },
  {
   "cell_type": "code",
   "execution_count": null,
   "metadata": {},
   "outputs": [],
   "source": []
  }
 ],
 "metadata": {
  "kernelspec": {
   "display_name": "Python 3",
   "language": "python",
   "name": "python3"
  },
  "language_info": {
   "codemirror_mode": {
    "name": "ipython",
    "version": 3
   },
   "file_extension": ".py",
   "mimetype": "text/x-python",
   "name": "python",
   "nbconvert_exporter": "python",
   "pygments_lexer": "ipython3",
   "version": "3.7.3"
  }
 },
 "nbformat": 4,
 "nbformat_minor": 2
}
